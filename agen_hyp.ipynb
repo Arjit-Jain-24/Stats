{
 "cells": [
  {
   "cell_type": "markdown",
   "metadata": {},
   "source": [
    "## Hypothesis\n",
    "\n",
    "The hypothesis is that a higher proportion of people voted for the presidential post based on the agenda compared to the mess secretary post.\n",
    "\n"
   ]
  },
  {
   "cell_type": "code",
   "execution_count": 29,
   "metadata": {},
   "outputs": [],
   "source": [
    "import pandas as pd\n",
    "import numpy as np\n",
    "\n",
    "df = pd.read_csv('startElec.csv')"
   ]
  },
  {
   "cell_type": "code",
   "execution_count": 30,
   "metadata": {},
   "outputs": [
    {
     "name": "stdout",
     "output_type": "stream",
     "text": [
      "0.1534090909090909\n"
     ]
    }
   ],
   "source": [
    "count_agenda_votes_pres = df[df['Why did you vote for him?'] == 'You found the agenda appealing'].shape[0]\n",
    "total_votes = df.shape[0]\n",
    "\n",
    "p1_cap = count_agenda_votes_pres/total_votes\n",
    "\n",
    "print(p1_cap)"
   ]
  },
  {
   "cell_type": "code",
   "execution_count": 31,
   "metadata": {},
   "outputs": [
    {
     "name": "stdout",
     "output_type": "stream",
     "text": [
      "0.3125\n"
     ]
    }
   ],
   "source": [
    "count_agenda_votes_mess = df[df['Why did you vote for him?.1'] == 'You found the agenda appealing'].shape[0]\n",
    "\n",
    "p2_cap = count_agenda_votes_mess/total_votes\n",
    "print(p2_cap)"
   ]
  },
  {
   "cell_type": "code",
   "execution_count": 38,
   "metadata": {},
   "outputs": [
    {
     "name": "stdout",
     "output_type": "stream",
     "text": [
      "z_star:  -3.594755914944917\n"
     ]
    }
   ],
   "source": [
    "p0 = 0\n",
    "\n",
    "var_p1 = p1_cap*(1-p1_cap)/total_votes\n",
    "var_p2 = p2_cap*(1-p2_cap)/total_votes\n",
    "\n",
    "std_dev = np.sqrt(var_p1 + var_p2)\n",
    "\n",
    "z_star = ((p1_cap - p2_cap) - p0)/std_dev\n",
    "\n",
    "print(\"z_star: \", z_star)"
   ]
  },
  {
   "cell_type": "code",
   "execution_count": 39,
   "metadata": {},
   "outputs": [
    {
     "name": "stdout",
     "output_type": "stream",
     "text": [
      "Null Hypothesis is rejected\n"
     ]
    }
   ],
   "source": [
    "# lets take alpha = 0.05\n",
    "alpha = 0.05\n",
    "z_alpha = 1.645\n",
    "\n",
    "# print(z_alpha)\n",
    "# print(z_star)\n",
    "\n",
    "if z_star <= -1*z_alpha:\n",
    "    print(\"Null Hypothesis is rejected\")\n",
    "else:\n",
    "    print(\"Null Hypothesis is accepted\")"
   ]
  },
  {
   "cell_type": "markdown",
   "metadata": {},
   "source": [
    "\n",
    "## Conclusion\n",
    "\n",
    "Thus, we can conclude that a higher proportion of people voted for the mess secretary post based on the agenda than the presidential post.\n"
   ]
  }
 ],
 "metadata": {
  "kernelspec": {
   "display_name": "Python 3",
   "language": "python",
   "name": "python3"
  },
  "language_info": {
   "codemirror_mode": {
    "name": "ipython",
    "version": 3
   },
   "file_extension": ".py",
   "mimetype": "text/x-python",
   "name": "python",
   "nbconvert_exporter": "python",
   "pygments_lexer": "ipython3",
   "version": "3.10.12"
  }
 },
 "nbformat": 4,
 "nbformat_minor": 2
}
